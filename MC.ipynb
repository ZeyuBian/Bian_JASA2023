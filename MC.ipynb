{
 "cells": [
  {
   "cell_type": "code",
   "execution_count": 9,
   "id": "c7a69f58",
   "metadata": {},
   "outputs": [],
   "source": [
    "import gym\n",
    "import numpy as np\n",
    "import pandas as pd\n",
    "import time, math, random\n",
    "\n",
    "env = gym.make('CartPole-v1')\n",
    "t = 20\n",
    "n = 25\n",
    "\n",
    "individual_id = [i + 1 for _ in range(t) for i in range(n)]\n",
    "individual_id = np.array(individual_id)\n",
    "\n",
    "time_point_id = [j + 1 for j in range(t) for _ in range(n)]\n",
    "time_point_id = np.array(time_point_id)\n",
    "MC=0"
   ]
  },
  {
   "cell_type": "code",
   "execution_count": 10,
   "id": "6e365e0b",
   "metadata": {
    "collapsed": true
   },
   "outputs": [
    {
     "name": "stderr",
     "output_type": "stream",
     "text": [
      "/Users/zeyubian/anaconda3/envs/rl/lib/python3.10/site-packages/gym/utils/passive_env_checker.py:233: DeprecationWarning: `np.bool8` is a deprecated alias for `np.bool_`.  (Deprecated NumPy 1.24)\n",
      "  if not isinstance(terminated, (bool, np.bool8)):\n",
      "/Users/zeyubian/anaconda3/envs/rl/lib/python3.10/site-packages/gym/envs/classic_control/cartpole.py:177: UserWarning: \u001b[33mWARN: You are calling 'step()' even though this environment has already returned terminated = True. You should always call 'reset()' once you receive 'terminated = True' -- any further steps are undefined behavior.\u001b[0m\n",
      "  logger.warn(\n"
     ]
    }
   ],
   "source": [
    "for i in range (1,101):\n",
    "    X1=[];X2=[];A=[];R=[]\n",
    "    rng = np.random.default_rng(i)\n",
    "    def reward_function(_state1,_state2, k, j):\n",
    "        return 1-2*_state1**2- _state2**2+ math.cos(k) + math.sin(4*j)\n",
    "\n",
    "    for k in range(n):\n",
    "        x1=[];x2=[];a=[];r=[]\n",
    "    \n",
    "    # initial state\n",
    "        state1 = env.reset()[0][0]\n",
    "        state2 = env.reset()[0][1]\n",
    "        action = rng.binomial(1, 0.5)\n",
    "        reward = reward_function(state1,state2,  k, 0)\n",
    "    \n",
    "        x1.append(state1)\n",
    "        x2.append(state2)\n",
    "        a.append(action)\n",
    "        r.append(reward)\n",
    "    \n",
    "        for j in range(1, t):\n",
    "            state1 = env.step(action)[0][0]\n",
    "            state2 = env.step(action)[0][1]\n",
    "            action = rng.binomial(1, 0.5)\n",
    "            reward = reward_function(state1, state2, k, j)\n",
    "            r.append(reward)\n",
    "            \n",
    "        R.append(r)\n",
    "        \n",
    "    R = np.array(R)\n",
    "    MC=MC+R.T.reshape(-1,)  \n"
   ]
  },
  {
   "cell_type": "code",
   "execution_count": 11,
   "id": "c31d5775",
   "metadata": {},
   "outputs": [],
   "source": [
    "df = pd.DataFrame(\n",
    "    {\n",
    "        \"individual_id\": individual_id,\n",
    "        \"time_point_id\": time_point_id,\n",
    "        \"reward\": MC,        \n",
    "    }\n",
    ")\n",
    "df.to_csv(f\"/Users/zeyubian/Desktop/Sims/MC.csv\", index=None)"
   ]
  },
  {
   "cell_type": "code",
   "execution_count": null,
   "id": "a98e8c3d",
   "metadata": {},
   "outputs": [],
   "source": []
  },
  {
   "cell_type": "code",
   "execution_count": null,
   "id": "b7911b06",
   "metadata": {},
   "outputs": [],
   "source": []
  },
  {
   "cell_type": "code",
   "execution_count": null,
   "id": "4c85b094",
   "metadata": {},
   "outputs": [],
   "source": []
  },
  {
   "cell_type": "code",
   "execution_count": null,
   "id": "a046e358",
   "metadata": {},
   "outputs": [],
   "source": []
  },
  {
   "cell_type": "code",
   "execution_count": null,
   "id": "47572f9a",
   "metadata": {},
   "outputs": [],
   "source": []
  },
  {
   "cell_type": "code",
   "execution_count": null,
   "id": "0f61f62c",
   "metadata": {},
   "outputs": [],
   "source": []
  }
 ],
 "metadata": {
  "kernelspec": {
   "display_name": "rl",
   "language": "python",
   "name": "rl"
  },
  "language_info": {
   "codemirror_mode": {
    "name": "ipython",
    "version": 3
   },
   "file_extension": ".py",
   "mimetype": "text/x-python",
   "name": "python",
   "nbconvert_exporter": "python",
   "pygments_lexer": "ipython3",
   "version": "3.10.12"
  }
 },
 "nbformat": 4,
 "nbformat_minor": 5
}
