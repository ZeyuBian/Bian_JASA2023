{
 "cells": [
  {
   "cell_type": "code",
   "execution_count": 1,
   "id": "c7a69f58",
   "metadata": {},
   "outputs": [],
   "source": [
    "import gym\n",
    "import numpy as np\n",
    "import pandas as pd\n",
    "import time, math, random\n",
    "\n",
    "env = gym.make('CartPole-v1')\n",
    "t = 20\n",
    "n = 25\n",
    "\n",
    "individual_id = [i + 1 for _ in range(t) for i in range(n)]\n",
    "individual_id = np.array(individual_id)\n",
    "\n",
    "time_point_id = [j + 1 for j in range(t) for _ in range(n)]\n",
    "time_point_id = np.array(time_point_id)\n",
    "\n",
    "for i in range (1,101):\n",
    "    X1=[];X2=[];A=[];R=[]\n",
    "    rng = np.random.default_rng(i)\n",
    "    def reward_function(_state1,_state2, k, j):\n",
    "        return 1-2*_state1**2- _state2**2+ math.cos(k) + math.sin(4*j)\n",
    "\n",
    "    for k in range(n):\n",
    "        x1=[];x2=[];a=[];r=[]\n",
    "    \n",
    "    # initial state\n",
    "        state1 = env.reset()[0][0]\n",
    "        state2 = env.reset()[0][1]\n",
    "        action = rng.binomial(1, 0.5)\n",
    "        reward = reward_function(state1,state2,  k, 0)\n",
    "    \n",
    "        x1.append(state1)\n",
    "        x2.append(state2)\n",
    "        a.append(action)\n",
    "        r.append(reward)\n",
    "    \n",
    "        for j in range(1, t):\n",
    "            state1 = env.step(action)[0][0]\n",
    "            state2 = env.step(action)[0][1]\n",
    "            action = rng.binomial(1, 0.5)\n",
    "            reward = reward_function(state1, state2, k, j)\n",
    "        \n",
    "            x1.append(state1)\n",
    "            x2.append(state2)\n",
    "            a.append(action)\n",
    "            r.append(reward)\n",
    "        \n",
    "        X1.append(x1)\n",
    "        X2.append(x2)\n",
    "        A.append(a)\n",
    "        R.append(r)\n",
    "    \n",
    "    X1 = np.array(X1)\n",
    "    X2 = np.array(X2)\n",
    "    A = np.array(A)\n",
    "    R = np.array(R)\n",
    "    df = pd.DataFrame(\n",
    "    {\n",
    "        \"individual_id\": individual_id,\n",
    "        \"time_point_id\": time_point_id,\n",
    "        \"reward\": R.T.reshape(-1,),\n",
    "        \"action\": A.T.reshape(-1,),\n",
    "        \"X1\": X1.T.reshape(-1,),\n",
    "        \"X2\": X2.T.reshape(-1,),\n",
    "    }\n",
    ")\n",
    "    df.to_csv(f\"/Users/zeyubian/Desktop/Sims/Cartpole/cartpole_{i}.csv\", index=None)"
   ]
  },
  {
   "cell_type": "code",
   "execution_count": null,
   "id": "6e365e0b",
   "metadata": {},
   "outputs": [],
   "source": []
  },
  {
   "cell_type": "code",
   "execution_count": null,
   "id": "c31d5775",
   "metadata": {},
   "outputs": [],
   "source": []
  },
  {
   "cell_type": "code",
   "execution_count": null,
   "id": "a98e8c3d",
   "metadata": {},
   "outputs": [],
   "source": []
  },
  {
   "cell_type": "code",
   "execution_count": 7,
   "id": "b7911b06",
   "metadata": {},
   "outputs": [],
   "source": []
  },
  {
   "cell_type": "code",
   "execution_count": 8,
   "id": "4c85b094",
   "metadata": {},
   "outputs": [],
   "source": []
  },
  {
   "cell_type": "code",
   "execution_count": null,
   "id": "a046e358",
   "metadata": {},
   "outputs": [],
   "source": []
  },
  {
   "cell_type": "code",
   "execution_count": null,
   "id": "47572f9a",
   "metadata": {},
   "outputs": [],
   "source": []
  },
  {
   "cell_type": "code",
   "execution_count": null,
   "id": "0f61f62c",
   "metadata": {},
   "outputs": [],
   "source": []
  }
 ],
 "metadata": {
  "kernelspec": {
   "display_name": "rl",
   "language": "python",
   "name": "rl"
  },
  "language_info": {
   "codemirror_mode": {
    "name": "ipython",
    "version": 3
   },
   "file_extension": ".py",
   "mimetype": "text/x-python",
   "name": "python",
   "nbconvert_exporter": "python",
   "pygments_lexer": "ipython3",
   "version": "3.10.12"
  }
 },
 "nbformat": 4,
 "nbformat_minor": 5
}
